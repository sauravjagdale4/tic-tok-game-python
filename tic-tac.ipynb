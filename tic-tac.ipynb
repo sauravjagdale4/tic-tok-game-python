{
 "cells": [
  {
   "cell_type": "code",
   "execution_count": 13,
   "metadata": {},
   "outputs": [
    {
     "name": "stdout",
     "output_type": "stream",
     "text": [
      "Enter the size of tic tac\n",
      "3\n"
     ]
    }
   ],
   "source": [
    "print(\"Enter the size of tic tac\")\n",
    "n = int(input())"
   ]
  },
  {
   "cell_type": "code",
   "execution_count": 14,
   "metadata": {},
   "outputs": [],
   "source": [
    "def createBoard(n):\n",
    "    arr = []\n",
    "    for i in range(0,n):\n",
    "        rows = []\n",
    "        for j in range(0,n):\n",
    "            rows.append(0)\n",
    "        arr.append(rows)\n",
    "    return arr"
   ]
  },
  {
   "cell_type": "code",
   "execution_count": 15,
   "metadata": {},
   "outputs": [],
   "source": [
    "def showBoard(tictac):\n",
    "    for rows in tictac:\n",
    "        print(\"|\".join(map(str, rows)))"
   ]
  },
  {
   "cell_type": "code",
   "execution_count": 16,
   "metadata": {},
   "outputs": [],
   "source": [
    "def checkLineCom(row):\n",
    "    if row.count(row[0]) == len(row) and row[0] != 0 :\n",
    "        return True\n",
    "    return False"
   ]
  },
  {
   "cell_type": "code",
   "execution_count": 17,
   "metadata": {},
   "outputs": [],
   "source": [
    "def checkHorizontal(tictac):\n",
    "    for row in tictac:\n",
    "        if checkLineCom(row):\n",
    "            return True\n",
    "    return False"
   ]
  },
  {
   "cell_type": "code",
   "execution_count": 18,
   "metadata": {},
   "outputs": [],
   "source": [
    "def checkDiagonal(tictac):\n",
    "    d1=0\n",
    "    dia1,dia2 = [],[]\n",
    "    d2=len(tictac)-1\n",
    "    for _ in range(len(tictac)):\n",
    "        dia1.append(tictac[d1][d1])\n",
    "        d1+=1\n",
    "        dia2.append(tictac[d2][d2])\n",
    "        d2-=1\n",
    "    if checkLineCom(dia1) or checkLineCom(dia2):\n",
    "        return True\n",
    "    return False"
   ]
  },
  {
   "cell_type": "code",
   "execution_count": 19,
   "metadata": {},
   "outputs": [],
   "source": [
    "def checkVertical(tictac):\n",
    "    for i in range(0,n):\n",
    "        arr = []\n",
    "        for j in range(0,n):\n",
    "            arr.append(tictac[j][i])\n",
    "        if checkLineCom(arr):\n",
    "            return True\n",
    "    return False"
   ]
  },
  {
   "cell_type": "code",
   "execution_count": 20,
   "metadata": {},
   "outputs": [],
   "source": [
    "def isWin(tictac):\n",
    "    if checkHorizontal(tictac):\n",
    "        return True\n",
    "    elif checkDiagonal(tictac):\n",
    "        return True\n",
    "    elif checkVertical(tictac):\n",
    "        return True\n",
    "    else:\n",
    "        return False"
   ]
  },
  {
   "cell_type": "code",
   "execution_count": 21,
   "metadata": {},
   "outputs": [],
   "source": [
    "def playMove(playerId, tictac):\n",
    "    print(\"Enter the position as x,y\")\n",
    "    try :\n",
    "        i,j = map(int,input().strip().split(','))\n",
    "    except:\n",
    "        print(\"Invalid position Play again\")\n",
    "        return playMove(playerId,tictac)\n",
    "    if tictac[i][j] == 0:\n",
    "        tictac[i][j] = playerId\n",
    "        return tictac\n",
    "    else:\n",
    "        print(\"Already Occupied Play again\")\n",
    "        return playMove(playerId,tictac)"
   ]
  },
  {
   "cell_type": "code",
   "execution_count": 22,
   "metadata": {},
   "outputs": [],
   "source": [
    "def startGame():\n",
    "    tictac = createBoard(n)\n",
    "    player1 = True\n",
    "    count =1\n",
    "    while count<=9:\n",
    "        if player1:\n",
    "            print(\"Player 1's turn\")\n",
    "            tictac = playMove(1,tictac)\n",
    "            player1 = False\n",
    "        else:\n",
    "            print(\"Player 2's turn\")\n",
    "            tictac = playMove(2,tictac)\n",
    "            player1 = True\n",
    "        showBoard(tictac)\n",
    "        count+=1\n",
    "        if isWin(tictac) :\n",
    "            print(\"Player \"+ (\"2\" if player1 else \"1\") +\" is Winner\")\n",
    "            break\n",
    "    print(\"Draw\")\n",
    "    print(\"Do you wanna play again?Y/N\")\n",
    "    if input()==\"Y\":\n",
    "        startGame()"
   ]
  },
  {
   "cell_type": "code",
   "execution_count": 23,
   "metadata": {},
   "outputs": [
    {
     "name": "stdout",
     "output_type": "stream",
     "text": [
      "Player 1's turn\n",
      "Enter the position as x,y\n",
      "1,1\n",
      "0|0|0\n",
      "0|1|0\n",
      "0|0|0\n",
      "Player 2's turn\n",
      "Enter the position as x,y\n",
      "1,2\n",
      "0|0|0\n",
      "0|1|2\n",
      "0|0|0\n",
      "Player 1's turn\n",
      "Enter the position as x,y\n",
      "0,1.\n",
      "Invalid position Play again\n",
      "Enter the position as x,y\n",
      "0,1\n",
      "0|1|0\n",
      "0|1|2\n",
      "0|0|0\n",
      "Player 2's turn\n",
      "Enter the position as x,y\n",
      "1,0\n",
      "0|1|0\n",
      "2|1|2\n",
      "0|0|0\n",
      "Player 1's turn\n",
      "Enter the position as x,y\n",
      "2,1\n",
      "0|1|0\n",
      "2|1|2\n",
      "0|1|0\n",
      "Player 1 is Winner\n",
      "Draw\n",
      "Do you wanna play again?Y/N\n",
      "N\n"
     ]
    }
   ],
   "source": [
    "startGame()"
   ]
  },
  {
   "cell_type": "code",
   "execution_count": null,
   "metadata": {},
   "outputs": [],
   "source": []
  }
 ],
 "metadata": {
  "kernelspec": {
   "display_name": "Python 3",
   "language": "python",
   "name": "python3"
  },
  "language_info": {
   "codemirror_mode": {
    "name": "ipython",
    "version": 3
   },
   "file_extension": ".py",
   "mimetype": "text/x-python",
   "name": "python",
   "nbconvert_exporter": "python",
   "pygments_lexer": "ipython3",
   "version": "3.6.7"
  }
 },
 "nbformat": 4,
 "nbformat_minor": 2
}
